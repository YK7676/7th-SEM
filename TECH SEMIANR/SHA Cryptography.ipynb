{
 "cells": [
  {
   "cell_type": "markdown",
   "id": "fifth-carol",
   "metadata": {},
   "source": [
    "### SHA, ( Secure Hash Algorithms )- Base Of BlockChain"
   ]
  },
  {
   "cell_type": "markdown",
   "id": "golden-basket",
   "metadata": {},
   "source": [
    "- SHA256 : This hash function belong to hash class SHA-2, the internal block size of it is 32 bits.\n",
    "- SHA384 : This hash function belong to hash class SHA-2, the internal block size of it is 32 bits. This is one of the truncated version.\n",
    "- SHA224 : This hash function belong to hash class SHA-2, the internal block size of it is 32 bits. This is one of the truncated version.\n",
    "- SHA512 : This hash function belong to hash class SHA-2, the internal block size of it is 64 bits.\n",
    "- SHA1 : The 160 bit hash function that resembles MD5 hash in working and was discontinued to be used seeing its security vulnerabilities."
   ]
  },
  {
   "cell_type": "code",
   "execution_count": 1,
   "id": "mature-desire",
   "metadata": {},
   "outputs": [],
   "source": [
    "import hashlib"
   ]
  },
  {
   "cell_type": "markdown",
   "id": "corresponding-annotation",
   "metadata": {},
   "source": [
    "### SHA256"
   ]
  },
  {
   "cell_type": "code",
   "execution_count": 2,
   "id": "sought-perfume",
   "metadata": {},
   "outputs": [
    {
     "name": "stdout",
     "output_type": "stream",
     "text": [
      "<sha256 _hashlib.HASH object @ 0x000002898C611530>\n"
     ]
    }
   ],
   "source": [
    "str1=\"YASHWANTHKIRANS\"\n",
    "### Process of Hashing\n",
    "### First step is to encode\n",
    "### Then Apply hashing Algorithms\n",
    "hashedval = hashlib.sha256(str1.encode()) \n",
    "print(hashedval)"
   ]
  },
  {
   "cell_type": "code",
   "execution_count": 3,
   "id": "pacific-beaver",
   "metadata": {},
   "outputs": [
    {
     "data": {
      "text/plain": [
       "'d62d1af59cd6daaf57d13606f8285dd1dd4a7fda917aa0cf4e6e8a1b1b96a347'"
      ]
     },
     "execution_count": 3,
     "metadata": {},
     "output_type": "execute_result"
    }
   ],
   "source": [
    "###convert this value to hexadecimal\n",
    "hashedval.hexdigest()"
   ]
  },
  {
   "cell_type": "markdown",
   "id": "first-butter",
   "metadata": {},
   "source": [
    "### SHA384"
   ]
  },
  {
   "cell_type": "code",
   "execution_count": 4,
   "id": "express-looking",
   "metadata": {},
   "outputs": [
    {
     "data": {
      "text/plain": [
       "'91a0c570e55c609fa40fd2d6eddc0b353491f9d203927ae64d2ec206eb2e40aa4d2acd411bb2bbb082475a237176fdb4'"
      ]
     },
     "execution_count": 4,
     "metadata": {},
     "output_type": "execute_result"
    }
   ],
   "source": [
    "hashedval=hashlib.sha384(str1.encode()) \n",
    "hashedval.hexdigest()"
   ]
  },
  {
   "cell_type": "markdown",
   "id": "comic-afghanistan",
   "metadata": {},
   "source": [
    "### SHA224"
   ]
  },
  {
   "cell_type": "code",
   "execution_count": 5,
   "id": "simple-campbell",
   "metadata": {},
   "outputs": [
    {
     "data": {
      "text/plain": [
       "'c691b2ccbeae0dafdf1b5aeba5881f5a635460d35bde113875530234'"
      ]
     },
     "execution_count": 5,
     "metadata": {},
     "output_type": "execute_result"
    }
   ],
   "source": [
    "hashedval=hashlib.sha224(str1.encode()) \n",
    "hashedval.hexdigest()"
   ]
  },
  {
   "cell_type": "markdown",
   "id": "conventional-vector",
   "metadata": {},
   "source": [
    "### SHA512"
   ]
  },
  {
   "cell_type": "code",
   "execution_count": 6,
   "id": "noted-channels",
   "metadata": {},
   "outputs": [
    {
     "data": {
      "text/plain": [
       "'c4fb9f642249403ca4bdf4a23e4b22303ff17f9a2f16bc4b62098993ad3edd58943d30a6540bb16ed164636c5555ec7c0751f0be90c9161cb387b60c26eb782d'"
      ]
     },
     "execution_count": 6,
     "metadata": {},
     "output_type": "execute_result"
    }
   ],
   "source": [
    "hashedval=hashlib.sha512(str1.encode()) \n",
    "hashedval.hexdigest()"
   ]
  },
  {
   "cell_type": "code",
   "execution_count": 7,
   "id": "secondary-witness",
   "metadata": {},
   "outputs": [
    {
     "data": {
      "text/plain": [
       "'f4e1b0b4a6ece21d24ef95bc96c32916ef6e68bf'"
      ]
     },
     "execution_count": 7,
     "metadata": {},
     "output_type": "execute_result"
    }
   ],
   "source": [
    "hashedval=hashlib.sha1(str1.encode()) \n",
    "hashedval.hexdigest()"
   ]
  },
  {
   "cell_type": "code",
   "execution_count": null,
   "id": "destroyed-relationship",
   "metadata": {},
   "outputs": [],
   "source": []
  }
 ],
 "metadata": {
  "kernelspec": {
   "display_name": "Python 3",
   "language": "python",
   "name": "python3"
  },
  "language_info": {
   "codemirror_mode": {
    "name": "ipython",
    "version": 3
   },
   "file_extension": ".py",
   "mimetype": "text/x-python",
   "name": "python",
   "nbconvert_exporter": "python",
   "pygments_lexer": "ipython3",
   "version": "3.11.1"
  },
  "vscode": {
   "interpreter": {
    "hash": "9cf0d407a0259c664cfa6de036f27e2a7100af0401e4cbadbfe7f14298181754"
   }
  }
 },
 "nbformat": 4,
 "nbformat_minor": 5
}
